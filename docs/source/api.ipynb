{
 "cells": [
  {
   "cell_type": "markdown",
   "id": "announced-chosen",
   "metadata": {},
   "source": [
    "# API Reference"
   ]
  },
  {
   "cell_type": "markdown",
   "id": "established-mailman",
   "metadata": {},
   "source": [
    "## See Also\n",
    "\n",
    "* [scipy.cluster.hierarchy.linkage](https://docs.scipy.org/doc/scipy/reference/generated/scipy.cluster.hierarchy.linkage.html#scipy.cluster.hierarchy.linkage): for advanced creation of hierarchical clusterings.\n",
    "* [scipy.spatial.distance.pdist](https://docs.scipy.org/doc/scipy/reference/generated/scipy.spatial.distance.pdist.html): pairwise distance metrics"
   ]
  },
  {
   "cell_type": "markdown",
   "id": "textile-quantity",
   "metadata": {},
   "source": [
    "## Examples"
   ]
  },
  {
   "cell_type": "code",
   "execution_count": 1,
   "id": "alien-pantyhose",
   "metadata": {},
   "outputs": [],
   "source": [
    "from pyminimax import minimax\n",
    "from scipy.cluster.hierarchy import fcluster\n",
    "from scipy.spatial.distance import pdist"
   ]
  },
  {
   "cell_type": "markdown",
   "id": "attempted-montgomery",
   "metadata": {},
   "source": [
    "First, we need a toy dataset to play with:"
   ]
  },
  {
   "cell_type": "code",
   "execution_count": 2,
   "id": "sustained-sector",
   "metadata": {},
   "outputs": [],
   "source": [
    "X = [[0, 0], [0, 1], [1, 0],\n",
    "     [0, 4], [0, 3], [1, 4],\n",
    "     [4, 0], [3, 0], [4, 1],\n",
    "     [4, 4], [3, 4], [4, 3]]"
   ]
  },
  {
   "cell_type": "markdown",
   "id": "sufficient-ethernet",
   "metadata": {},
   "source": [
    "Then, we get a condensed distance matrix from this dataset:"
   ]
  },
  {
   "cell_type": "code",
   "execution_count": 3,
   "id": "worth-performer",
   "metadata": {},
   "outputs": [],
   "source": [
    "y = pdist(X)"
   ]
  },
  {
   "cell_type": "markdown",
   "id": "retained-kingdom",
   "metadata": {},
   "source": [
    "Finally, we can perform the clustering:"
   ]
  },
  {
   "cell_type": "code",
   "execution_count": 4,
   "id": "academic-smart",
   "metadata": {},
   "outputs": [
    {
     "data": {
      "text/plain": [
       "array([[ 0.        ,  1.        ,  1.        ,  2.        ],\n",
       "       [ 2.        , 12.        ,  1.        ,  3.        ],\n",
       "       [ 3.        ,  4.        ,  1.        ,  2.        ],\n",
       "       [ 6.        ,  7.        ,  1.        ,  2.        ],\n",
       "       [ 5.        , 14.        ,  1.        ,  3.        ],\n",
       "       [ 8.        , 15.        ,  1.        ,  3.        ],\n",
       "       [ 9.        , 10.        ,  1.        ,  2.        ],\n",
       "       [11.        , 18.        ,  1.        ,  3.        ],\n",
       "       [13.        , 16.        ,  3.16227766,  6.        ],\n",
       "       [17.        , 19.        ,  3.16227766,  6.        ],\n",
       "       [20.        , 21.        ,  5.        , 12.        ]])"
      ]
     },
     "execution_count": 4,
     "metadata": {},
     "output_type": "execute_result"
    }
   ],
   "source": [
    "Z = minimax(y)\n",
    "Z"
   ]
  }
 ],
 "metadata": {
  "kernelspec": {
   "display_name": "Python 3",
   "language": "python",
   "name": "python3"
  },
  "language_info": {
   "codemirror_mode": {
    "name": "ipython",
    "version": 3
   },
   "file_extension": ".py",
   "mimetype": "text/x-python",
   "name": "python",
   "nbconvert_exporter": "python",
   "pygments_lexer": "ipython3",
   "version": "3.7.10"
  }
 },
 "nbformat": 4,
 "nbformat_minor": 5
}
