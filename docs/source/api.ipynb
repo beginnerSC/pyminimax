{
 "cells": [
  {
   "cell_type": "markdown",
   "id": "chinese-feedback",
   "metadata": {},
   "source": [
    "# API Reference"
   ]
  },
  {
   "cell_type": "markdown",
   "id": "reverse-slovenia",
   "metadata": {},
   "source": [
    "## See Also\n",
    "\n",
    "* [scipy.cluster.hierarchy.linkage](https://docs.scipy.org/doc/scipy/reference/generated/scipy.cluster.hierarchy.linkage.html#scipy.cluster.hierarchy.linkage): for advanced creation of hierarchical clusterings.\n",
    "* [scipy.spatial.distance.pdist](https://docs.scipy.org/doc/scipy/reference/generated/scipy.spatial.distance.pdist.html): pairwise distance metrics"
   ]
  },
  {
   "cell_type": "markdown",
   "id": "french-faith",
   "metadata": {},
   "source": [
    "## Examples"
   ]
  },
  {
   "cell_type": "code",
   "execution_count": 1,
   "id": "consistent-canon",
   "metadata": {},
   "outputs": [],
   "source": [
    "from pyminimax import minimax\n",
    "from scipy.cluster.hierarchy import fcluster\n",
    "from scipy.spatial.distance import pdist"
   ]
  },
  {
   "cell_type": "markdown",
   "id": "alpha-quick",
   "metadata": {},
   "source": [
    "First, we need a toy dataset to play with:"
   ]
  },
  {
   "cell_type": "code",
   "execution_count": 2,
   "id": "medieval-turtle",
   "metadata": {},
   "outputs": [],
   "source": [
    "X = [[0, 0], [0, 1], [1, 0],\n",
    "     [0, 4], [0, 3], [1, 4],\n",
    "     [4, 0], [3, 0], [4, 1],\n",
    "     [4, 4], [3, 4], [4, 3]]"
   ]
  },
  {
   "cell_type": "markdown",
   "id": "operating-factory",
   "metadata": {},
   "source": [
    "Then, we get a condensed distance matrix from this dataset:"
   ]
  },
  {
   "cell_type": "code",
   "execution_count": 3,
   "id": "advanced-converter",
   "metadata": {},
   "outputs": [],
   "source": [
    "y = pdist(X)"
   ]
  },
  {
   "cell_type": "markdown",
   "id": "british-warrant",
   "metadata": {},
   "source": [
    "Finally, we can perform the clustering:"
   ]
  },
  {
   "cell_type": "code",
   "execution_count": null,
   "id": "hollywood-remains",
   "metadata": {},
   "outputs": [],
   "source": [
    "Z = minimax(y)\n",
    "Z"
   ]
  }
 ],
 "metadata": {
  "kernelspec": {
   "display_name": "Python 3",
   "language": "python",
   "name": "python3"
  },
  "language_info": {
   "codemirror_mode": {
    "name": "ipython",
    "version": 3
   },
   "file_extension": ".py",
   "mimetype": "text/x-python",
   "name": "python",
   "nbconvert_exporter": "python",
   "pygments_lexer": "ipython3",
   "version": "3.7.10"
  }
 },
 "nbformat": 4,
 "nbformat_minor": 5
}
