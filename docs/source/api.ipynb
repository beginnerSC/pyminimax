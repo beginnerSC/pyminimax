{
 "cells": [
  {
   "cell_type": "markdown",
   "id": "shared-latvia",
   "metadata": {},
   "source": [
    "# API Reference"
   ]
  },
  {
   "cell_type": "markdown",
   "id": "finite-faith",
   "metadata": {},
   "source": [
    "## See Also\n",
    "\n",
    "* [scipy.cluster.hierarchy.linkage](https://docs.scipy.org/doc/scipy/reference/generated/scipy.cluster.hierarchy.linkage.html#scipy.cluster.hierarchy.linkage): for advanced creation of hierarchical clusterings.\n",
    "* [scipy.spatial.distance.pdist](https://docs.scipy.org/doc/scipy/reference/generated/scipy.spatial.distance.pdist.html): pairwise distance metrics"
   ]
  },
  {
   "cell_type": "markdown",
   "id": "parliamentary-robert",
   "metadata": {},
   "source": [
    "## Examples"
   ]
  },
  {
   "cell_type": "code",
   "execution_count": 1,
   "id": "equal-opening",
   "metadata": {},
   "outputs": [],
   "source": [
    "from pyminimax import minimax\n",
    "from scipy.cluster.hierarchy import fcluster\n",
    "from scipy.spatial.distance import pdist"
   ]
  },
  {
   "cell_type": "markdown",
   "id": "absolute-dubai",
   "metadata": {},
   "source": [
    "First, we need a toy dataset to play with:"
   ]
  },
  {
   "cell_type": "code",
   "execution_count": 2,
   "id": "proof-ozone",
   "metadata": {},
   "outputs": [],
   "source": [
    "X = [[0, 0], [0, 1], [1, 0],\n",
    "     [0, 4], [0, 3], [1, 4],\n",
    "     [4, 0], [3, 0], [4, 1],\n",
    "     [4, 4], [3, 4], [4, 3]]"
   ]
  },
  {
   "cell_type": "markdown",
   "id": "sonic-transport",
   "metadata": {},
   "source": [
    "Then, we get a condensed distance matrix from this dataset:"
   ]
  },
  {
   "cell_type": "code",
   "execution_count": 3,
   "id": "adopted-shield",
   "metadata": {},
   "outputs": [],
   "source": [
    "y = pdist(X)"
   ]
  },
  {
   "cell_type": "markdown",
   "id": "original-spectacular",
   "metadata": {},
   "source": [
    "Finally, we can perform the clustering:"
   ]
  },
  {
   "cell_type": "code",
   "execution_count": 5,
   "id": "human-hierarchy",
   "metadata": {},
   "outputs": [
    {
     "data": {
      "text/plain": [
       "array([[ 0.        ,  1.        ,  1.        ,  2.        ],\n",
       "       [ 2.        , 12.        ,  1.        ,  3.        ],\n",
       "       [ 3.        ,  4.        ,  1.        ,  2.        ],\n",
       "       [ 6.        ,  7.        ,  1.        ,  2.        ],\n",
       "       [ 5.        , 14.        ,  1.        ,  3.        ],\n",
       "       [ 8.        , 15.        ,  1.        ,  3.        ],\n",
       "       [ 9.        , 10.        ,  1.        ,  2.        ],\n",
       "       [11.        , 18.        ,  1.        ,  3.        ],\n",
       "       [13.        , 16.        ,  3.16227766,  6.        ],\n",
       "       [17.        , 19.        ,  3.16227766,  6.        ],\n",
       "       [20.        , 21.        ,  5.        , 12.        ]])"
      ]
     },
     "execution_count": 5,
     "metadata": {},
     "output_type": "execute_result"
    }
   ],
   "source": [
    "Z = minimax(y)\n",
    "Z"
   ]
  }
 ],
 "metadata": {
  "kernelspec": {
   "display_name": "Python 3",
   "language": "python",
   "name": "python3"
  },
  "language_info": {
   "codemirror_mode": {
    "name": "ipython",
    "version": 3
   },
   "file_extension": ".py",
   "mimetype": "text/x-python",
   "name": "python",
   "nbconvert_exporter": "python",
   "pygments_lexer": "ipython3",
   "version": "3.7.10"
  }
 },
 "nbformat": 4,
 "nbformat_minor": 5
}
