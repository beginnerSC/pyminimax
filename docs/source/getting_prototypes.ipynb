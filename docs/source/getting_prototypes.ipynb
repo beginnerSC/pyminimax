{
 "cells": [
  {
   "cell_type": "markdown",
   "id": "separated-remainder",
   "metadata": {},
   "source": [
    "# Getting Prototypes"
   ]
  },
  {
   "cell_type": "code",
   "execution_count": 1,
   "id": "planned-battlefield",
   "metadata": {},
   "outputs": [
    {
     "name": "stdout",
     "output_type": "stream",
     "text": [
      "/home/jovyan/pyminimax\n"
     ]
    }
   ],
   "source": [
    "cd ../.."
   ]
  },
  {
   "cell_type": "code",
   "execution_count": 2,
   "id": "mighty-anderson",
   "metadata": {},
   "outputs": [
    {
     "name": "stdout",
     "output_type": "stream",
     "text": [
      "running install\n",
      "running bdist_egg\n",
      "running egg_info\n",
      "writing pyminimax.egg-info/PKG-INFO\n",
      "writing dependency_links to pyminimax.egg-info/dependency_links.txt\n",
      "writing requirements to pyminimax.egg-info/requires.txt\n",
      "writing top-level names to pyminimax.egg-info/top_level.txt\n",
      "reading manifest file 'pyminimax.egg-info/SOURCES.txt'\n",
      "reading manifest template 'MANIFEST.in'\n",
      "warning: no previously-included files found matching 'tests/test*.py'\n",
      "writing manifest file 'pyminimax.egg-info/SOURCES.txt'\n",
      "installing library code to build/bdist.linux-x86_64/egg\n",
      "running install_lib\n",
      "running build_py\n",
      "creating build/bdist.linux-x86_64/egg\n",
      "creating build/bdist.linux-x86_64/egg/pyminimax\n",
      "copying build/lib/pyminimax/__init__.py -> build/bdist.linux-x86_64/egg/pyminimax\n",
      "copying build/lib/pyminimax/_minimax.py -> build/bdist.linux-x86_64/egg/pyminimax\n",
      "byte-compiling build/bdist.linux-x86_64/egg/pyminimax/__init__.py to __init__.cpython-37.pyc\n",
      "byte-compiling build/bdist.linux-x86_64/egg/pyminimax/_minimax.py to _minimax.cpython-37.pyc\n",
      "creating build/bdist.linux-x86_64/egg/EGG-INFO\n",
      "copying pyminimax.egg-info/PKG-INFO -> build/bdist.linux-x86_64/egg/EGG-INFO\n",
      "copying pyminimax.egg-info/SOURCES.txt -> build/bdist.linux-x86_64/egg/EGG-INFO\n",
      "copying pyminimax.egg-info/dependency_links.txt -> build/bdist.linux-x86_64/egg/EGG-INFO\n",
      "copying pyminimax.egg-info/requires.txt -> build/bdist.linux-x86_64/egg/EGG-INFO\n",
      "copying pyminimax.egg-info/top_level.txt -> build/bdist.linux-x86_64/egg/EGG-INFO\n",
      "zip_safe flag not set; analyzing archive contents...\n",
      "creating 'dist/pyminimax-0.0.4-py3.7.egg' and adding 'build/bdist.linux-x86_64/egg' to it\n",
      "removing 'build/bdist.linux-x86_64/egg' (and everything under it)\n",
      "Processing pyminimax-0.0.4-py3.7.egg\n",
      "Removing /srv/conda/envs/notebook/lib/python3.7/site-packages/pyminimax-0.0.4-py3.7.egg\n",
      "Copying pyminimax-0.0.4-py3.7.egg to /srv/conda/envs/notebook/lib/python3.7/site-packages\n",
      "pyminimax 0.0.4 is already the active version in easy-install.pth\n",
      "\n",
      "Installed /srv/conda/envs/notebook/lib/python3.7/site-packages/pyminimax-0.0.4-py3.7.egg\n",
      "Processing dependencies for pyminimax==0.0.4\n",
      "Searching for numpy==1.21.1\n",
      "Best match: numpy 1.21.1\n",
      "Adding numpy 1.21.1 to easy-install.pth file\n",
      "Installing f2py script to /srv/conda/envs/notebook/bin\n",
      "Installing f2py3 script to /srv/conda/envs/notebook/bin\n",
      "Installing f2py3.7 script to /srv/conda/envs/notebook/bin\n",
      "\n",
      "Using /srv/conda/envs/notebook/lib/python3.7/site-packages\n",
      "Finished processing dependencies for pyminimax==0.0.4\n"
     ]
    }
   ],
   "source": [
    "!python setup.py install"
   ]
  },
  {
   "cell_type": "code",
   "execution_count": 3,
   "id": "known-hierarchy",
   "metadata": {},
   "outputs": [
    {
     "data": {
      "text/plain": [
       "array([[ 0.        , 11.        ,  0.10907128,  2.        ,  0.        ],\n",
       "       [ 3.        , 12.        ,  0.11378059,  3.        , 11.        ],\n",
       "       [ 2.        , 13.        ,  0.13984741,  4.        , 11.        ],\n",
       "       [ 6.        , 14.        ,  0.18000197,  5.        , 11.        ],\n",
       "       [ 1.        ,  5.        ,  0.18963685,  2.        ,  1.        ],\n",
       "       [ 9.        , 10.        ,  0.21261486,  2.        ,  9.        ],\n",
       "       [ 4.        , 16.        ,  0.2252094 ,  3.        ,  5.        ],\n",
       "       [17.        , 18.        ,  0.34138697,  5.        ,  5.        ],\n",
       "       [ 8.        , 15.        ,  0.42153982,  6.        ,  3.        ],\n",
       "       [19.        , 20.        ,  0.54148195, 11.        ,  0.        ],\n",
       "       [ 7.        , 21.        ,  0.66072543, 12.        ,  2.        ]])"
      ]
     },
     "execution_count": 3,
     "metadata": {},
     "output_type": "execute_result"
    }
   ],
   "source": [
    "from pyminimax import minimax\n",
    "from scipy.spatial.distance import pdist\n",
    "import numpy as np\n",
    "\n",
    "np.random.seed(0)\n",
    "X = np.random.rand(12, 2)\n",
    "\n",
    "Z = minimax(pdist(X), return_prototype=True)\n",
    "\n",
    "Z"
   ]
  },
  {
   "cell_type": "code",
   "execution_count": 4,
   "id": "extensive-liquid",
   "metadata": {},
   "outputs": [
    {
     "data": {
      "image/png": "[encoded data removed]",
      "text/plain": [
       "<Figure size 720x288 with 1 Axes>"
      ]
     },
     "metadata": {
      "needs_background": "light"
     },
     "output_type": "display_data"
    }
   ],
   "source": [
    "from scipy.cluster.hierarchy import dendrogram\n",
    "from matplotlib import pyplot as plt\n",
    "\n",
    "fig = plt.figure(figsize=(10, 4))\n",
    "dendrogram(Z[:, :4])\n",
    "plt.show()"
   ]
  },
  {
   "cell_type": "code",
   "execution_count": 5,
   "id": "lasting-influence",
   "metadata": {},
   "outputs": [
    {
     "data": {
      "text/html": [
       "<div>\n",
       "<style scoped>\n",
       "    .dataframe tbody tr th:only-of-type {\n",
       "        vertical-align: middle;\n",
       "    }\n",
       "\n",
       "    .dataframe tbody tr th {\n",
       "        vertical-align: top;\n",
       "    }\n",
       "\n",
       "    .dataframe thead th {\n",
       "        text-align: right;\n",
       "    }\n",
       "</style>\n",
       "<table border=\"1\" class=\"dataframe\">\n",
       "  <thead>\n",
       "    <tr style=\"text-align: right;\">\n",
       "      <th></th>\n",
       "      <th>x</th>\n",
       "      <th>y</th>\n",
       "      <th>dist</th>\n",
       "      <th>num_pts</th>\n",
       "      <th>prototype</th>\n",
       "    </tr>\n",
       "  </thead>\n",
       "  <tbody>\n",
       "    <tr>\n",
       "      <th>0</th>\n",
       "      <td>0</td>\n",
       "      <td>11</td>\n",
       "      <td>0.109071</td>\n",
       "      <td>2</td>\n",
       "      <td>0</td>\n",
       "    </tr>\n",
       "    <tr>\n",
       "      <th>1</th>\n",
       "      <td>3</td>\n",
       "      <td>12</td>\n",
       "      <td>0.113781</td>\n",
       "      <td>3</td>\n",
       "      <td>11</td>\n",
       "    </tr>\n",
       "    <tr>\n",
       "      <th>2</th>\n",
       "      <td>2</td>\n",
       "      <td>13</td>\n",
       "      <td>0.139847</td>\n",
       "      <td>4</td>\n",
       "      <td>11</td>\n",
       "    </tr>\n",
       "    <tr>\n",
       "      <th>3</th>\n",
       "      <td>6</td>\n",
       "      <td>14</td>\n",
       "      <td>0.180002</td>\n",
       "      <td>5</td>\n",
       "      <td>11</td>\n",
       "    </tr>\n",
       "    <tr>\n",
       "      <th>4</th>\n",
       "      <td>1</td>\n",
       "      <td>5</td>\n",
       "      <td>0.189637</td>\n",
       "      <td>2</td>\n",
       "      <td>1</td>\n",
       "    </tr>\n",
       "    <tr>\n",
       "      <th>5</th>\n",
       "      <td>9</td>\n",
       "      <td>10</td>\n",
       "      <td>0.212615</td>\n",
       "      <td>2</td>\n",
       "      <td>9</td>\n",
       "    </tr>\n",
       "    <tr>\n",
       "      <th>6</th>\n",
       "      <td>4</td>\n",
       "      <td>16</td>\n",
       "      <td>0.225209</td>\n",
       "      <td>3</td>\n",
       "      <td>5</td>\n",
       "    </tr>\n",
       "    <tr>\n",
       "      <th>7</th>\n",
       "      <td>17</td>\n",
       "      <td>18</td>\n",
       "      <td>0.341387</td>\n",
       "      <td>5</td>\n",
       "      <td>5</td>\n",
       "    </tr>\n",
       "    <tr>\n",
       "      <th>8</th>\n",
       "      <td>8</td>\n",
       "      <td>15</td>\n",
       "      <td>0.421540</td>\n",
       "      <td>6</td>\n",
       "      <td>3</td>\n",
       "    </tr>\n",
       "    <tr>\n",
       "      <th>9</th>\n",
       "      <td>19</td>\n",
       "      <td>20</td>\n",
       "      <td>0.541482</td>\n",
       "      <td>11</td>\n",
       "      <td>0</td>\n",
       "    </tr>\n",
       "    <tr>\n",
       "      <th>10</th>\n",
       "      <td>7</td>\n",
       "      <td>21</td>\n",
       "      <td>0.660725</td>\n",
       "      <td>12</td>\n",
       "      <td>2</td>\n",
       "    </tr>\n",
       "  </tbody>\n",
       "</table>\n",
       "</div>"
      ],
      "text/plain": [
       "     x   y      dist  num_pts  prototype\n",
       "0    0  11  0.109071        2          0\n",
       "1    3  12  0.113781        3         11\n",
       "2    2  13  0.139847        4         11\n",
       "3    6  14  0.180002        5         11\n",
       "4    1   5  0.189637        2          1\n",
       "5    9  10  0.212615        2          9\n",
       "6    4  16  0.225209        3          5\n",
       "7   17  18  0.341387        5          5\n",
       "8    8  15  0.421540        6          3\n",
       "9   19  20  0.541482       11          0\n",
       "10   7  21  0.660725       12          2"
      ]
     },
     "execution_count": 5,
     "metadata": {},
     "output_type": "execute_result"
    }
   ],
   "source": [
    "from pandas import DataFrame\n",
    "\n",
    "DataFrame(Z, columns=['x', 'y', 'dist', 'num_pts', 'prototype']).astype({'x': int, 'y': int, 'num_pts': int, 'prototype': int})"
   ]
  },
  {
   "cell_type": "code",
   "execution_count": 6,
   "id": "sticky-consensus",
   "metadata": {},
   "outputs": [
    {
     "data": {
      "text/html": [
       "<div>\n",
       "<style scoped>\n",
       "    .dataframe tbody tr th:only-of-type {\n",
       "        vertical-align: middle;\n",
       "    }\n",
       "\n",
       "    .dataframe tbody tr th {\n",
       "        vertical-align: top;\n",
       "    }\n",
       "\n",
       "    .dataframe thead th {\n",
       "        text-align: right;\n",
       "    }\n",
       "</style>\n",
       "<table border=\"1\" class=\"dataframe\">\n",
       "  <thead>\n",
       "    <tr style=\"text-align: right;\">\n",
       "      <th></th>\n",
       "      <th>0</th>\n",
       "    </tr>\n",
       "  </thead>\n",
       "  <tbody>\n",
       "    <tr>\n",
       "      <th>5</th>\n",
       "      <td>7.0</td>\n",
       "    </tr>\n",
       "    <tr>\n",
       "      <th>4</th>\n",
       "      <td>8.0</td>\n",
       "    </tr>\n",
       "    <tr>\n",
       "      <th>3</th>\n",
       "      <td>11.0</td>\n",
       "    </tr>\n",
       "    <tr>\n",
       "      <th>1</th>\n",
       "      <td>9.0</td>\n",
       "    </tr>\n",
       "    <tr>\n",
       "      <th>2</th>\n",
       "      <td>5.0</td>\n",
       "    </tr>\n",
       "  </tbody>\n",
       "</table>\n",
       "</div>"
      ],
      "text/plain": [
       "      0\n",
       "5   7.0\n",
       "4   8.0\n",
       "3  11.0\n",
       "1   9.0\n",
       "2   5.0"
      ]
     },
     "execution_count": 6,
     "metadata": {},
     "output_type": "execute_result"
    }
   ],
   "source": [
    "from scipy.cluster.hierarchy import fcluster\n",
    "from collections import defaultdict\n",
    "\n",
    "fclust = fcluster(Z[:, :4], t=0.3, criterion='distance')\n",
    "idx2clust = dict(enumerate(fclust))     # map from data point index to cluster\n",
    "n = len(fclust)\n",
    "\n",
    "clust_dict = defaultdict(set)           # map from cluster to set of indices\n",
    "for idx, clust in enumerate(fclust):\n",
    "    clust_dict[clust].add(idx)\n",
    "\n",
    "protos = {}\n",
    "\n",
    "for cidx, cset in clust_dict.copy().items():\n",
    "    if len(cset)==1:\n",
    "        idx = cset.pop()\n",
    "        protos[cidx] = idx\n",
    "        idx2clust.pop(idx)\n",
    "        clust_dict.pop(cidx)\n",
    "        \n",
    "for x, y, _, _, proto in Z:\n",
    "    if x < n and x in idx2clust:\n",
    "        clust = idx2clust[x]\n",
    "        clust_dict[clust].remove(x)\n",
    "        if clust_dict[clust] == set([]):\n",
    "            protos[clust] = proto\n",
    "    if y < n and y in idx2clust:\n",
    "        clust = idx2clust[y]\n",
    "        clust_dict[clust].remove(y)\n",
    "        if clust_dict[clust] == set([]):\n",
    "            protos[clust] = proto\n",
    "\n",
    "from pandas import Series\n",
    "Series(protos).to_frame()"
   ]
  }
 ],
 "metadata": {
  "kernelspec": {
   "display_name": "Python 3",
   "language": "python",
   "name": "python3"
  },
  "language_info": {
   "codemirror_mode": {
    "name": "ipython",
    "version": 3
   },
   "file_extension": ".py",
   "mimetype": "text/x-python",
   "name": "python",
   "nbconvert_exporter": "python",
   "pygments_lexer": "ipython3",
   "version": "3.7.10"
  }
 },
 "nbformat": 4,
 "nbformat_minor": 5
}
