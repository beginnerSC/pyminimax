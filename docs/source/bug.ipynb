{
 "cells": [
  {
   "cell_type": "markdown",
   "id": "announced-pontiac",
   "metadata": {},
   "source": [
    "# Quick Start"
   ]
  },
  {
   "cell_type": "markdown",
   "id": "printable-jonathan",
   "metadata": {},
   "source": [
    "## Installation\n",
    "\n",
    "The recommended way to install PyMinimax is using pip.\n",
    "\n",
    "```\n",
    "pip install pyminimax\n",
    "```\n",
    "\n",
    "PyMinimax runs on any platform with Python 3 and NumPy installed. Installing SciPy is not required but strongly recommended as SciPy has the facility to interpret the results by PyMinimax. "
   ]
  },
  {
   "cell_type": "markdown",
   "id": "official-presentation",
   "metadata": {},
   "source": [
    "## Usage\n",
    "\n",
    "There is only one function in PyMinimax, `pyminimax.minimax`, and its usage is the same as the hierarchical clustering methods in SciPy, for example `scipy.cluster.hierarchy.complete`. Here we also demonstrate with the same example as in the [SciPy documentation](https://docs.scipy.org/doc/scipy/reference/generated/scipy.cluster.hierarchy.complete.html). First consider a dataset of $n=12$ points: "
   ]
  },
  {
   "cell_type": "code",
   "execution_count": 1,
   "id": "exceptional-importance",
   "metadata": {},
   "outputs": [],
   "source": [
    "X = [[0, 0], [0, 1], [1, 0], \n",
    "     [0, 4], [0, 3], [1, 4], \n",
    "     [4, 0], [3, 0], [4, 1], \n",
    "     [4, 4], [3, 4], [4, 3]]"
   ]
  },
  {
   "cell_type": "markdown",
   "id": "according-camel",
   "metadata": {},
   "source": [
    "    x x    x x\n",
    "    x        x\n",
    "\n",
    "    x        x\n",
    "    x x    x x\n",
    "    \n",
    "The minimax function takes a flattened distance matrix of the data as an argument, which can be computed by `scipy.spatial.distance.pdist`. By default, the return value of minimax has the same format as that of `scipy.cluster.hierarchy.linkage`. This is an $(n-1)$ by 4 matrix keeping the clustering result, called the *linkage matrix*. A detailed explanation of its format can be found in the [SciPy documentation](https://docs.scipy.org/doc/scipy/reference/generated/scipy.cluster.hierarchy.linkage.html)."
   ]
  },
  {
   "cell_type": "code",
   "execution_count": 2,
   "id": "preliminary-fourth",
   "metadata": {},
   "outputs": [
    {
     "data": {
      "text/plain": [
       "array([[ 0.        , 11.        ,  0.10907128,  2.        ,  0.        ],\n",
       "       [ 3.        , 12.        ,  0.11378059,  3.        , 11.        ],\n",
       "       [ 2.        , 13.        ,  0.13984741,  4.        , 11.        ],\n",
       "       [ 6.        , 14.        ,  0.18000197,  5.        , 11.        ],\n",
       "       [ 1.        ,  5.        ,  0.18963685,  2.        ,  1.        ],\n",
       "       [ 9.        , 10.        ,  0.21261486,  2.        ,  9.        ],\n",
       "       [ 4.        , 16.        ,  0.2252094 ,  3.        ,  5.        ],\n",
       "       [17.        , 18.        ,  0.34138697,  5.        ,  5.        ],\n",
       "       [ 8.        , 15.        ,  0.42153982,  6.        ,  3.        ],\n",
       "       [19.        , 20.        ,  0.54148195, 11.        ,  0.        ],\n",
       "       [ 7.        , 21.        ,  0.66072543, 12.        ,  2.        ]])"
      ]
     },
     "execution_count": 2,
     "metadata": {},
     "output_type": "execute_result"
    }
   ],
   "source": [
    "from pyminimax import minimax\n",
    "from scipy.spatial.distance import pdist\n",
    "import numpy as np\n",
    "\n",
    "np.random.seed(0)\n",
    "X = np.random.rand(12, 2)\n",
    "\n",
    "Z = minimax(pdist(X), return_prototype=True)\n",
    "\n",
    "Z"
   ]
  },
  {
   "cell_type": "markdown",
   "id": "entire-peninsula",
   "metadata": {},
   "source": [
    "Given the linkage matrix, one can then utilize the methods in SciPy to present the clustering result in a more readable manner. Below are examples applying `dendrogram` and `fcluster`. "
   ]
  },
  {
   "cell_type": "code",
   "execution_count": 3,
   "id": "literary-intention",
   "metadata": {},
   "outputs": [
    {
     "data": {
      "image/png": "[encoded data removed]",
      "text/plain": [
       "<Figure size 720x288 with 1 Axes>"
      ]
     },
     "metadata": {
      "needs_background": "light"
     },
     "output_type": "display_data"
    }
   ],
   "source": [
    "from scipy.cluster.hierarchy import dendrogram\n",
    "from matplotlib import pyplot as plt\n",
    "\n",
    "fig = plt.figure(figsize=(10, 4))\n",
    "dendrogram(Z[:, :4])\n",
    "plt.show()"
   ]
  },
  {
   "cell_type": "code",
   "execution_count": 28,
   "id": "relative-crash",
   "metadata": {},
   "outputs": [
    {
     "data": {
      "text/html": [
       "<div>\n",
       "<style scoped>\n",
       "    .dataframe tbody tr th:only-of-type {\n",
       "        vertical-align: middle;\n",
       "    }\n",
       "\n",
       "    .dataframe tbody tr th {\n",
       "        vertical-align: top;\n",
       "    }\n",
       "\n",
       "    .dataframe thead th {\n",
       "        text-align: right;\n",
       "    }\n",
       "</style>\n",
       "<table border=\"1\" class=\"dataframe\">\n",
       "  <thead>\n",
       "    <tr style=\"text-align: right;\">\n",
       "      <th></th>\n",
       "      <th>x</th>\n",
       "      <th>y</th>\n",
       "      <th>dist</th>\n",
       "      <th>num_pts</th>\n",
       "      <th>prototype</th>\n",
       "    </tr>\n",
       "  </thead>\n",
       "  <tbody>\n",
       "    <tr>\n",
       "      <th>0</th>\n",
       "      <td>0</td>\n",
       "      <td>11</td>\n",
       "      <td>0.109071</td>\n",
       "      <td>2</td>\n",
       "      <td>0</td>\n",
       "    </tr>\n",
       "    <tr>\n",
       "      <th>1</th>\n",
       "      <td>3</td>\n",
       "      <td>12</td>\n",
       "      <td>0.113781</td>\n",
       "      <td>3</td>\n",
       "      <td>11</td>\n",
       "    </tr>\n",
       "    <tr>\n",
       "      <th>2</th>\n",
       "      <td>2</td>\n",
       "      <td>13</td>\n",
       "      <td>0.139847</td>\n",
       "      <td>4</td>\n",
       "      <td>11</td>\n",
       "    </tr>\n",
       "    <tr>\n",
       "      <th>3</th>\n",
       "      <td>6</td>\n",
       "      <td>14</td>\n",
       "      <td>0.180002</td>\n",
       "      <td>5</td>\n",
       "      <td>11</td>\n",
       "    </tr>\n",
       "    <tr>\n",
       "      <th>4</th>\n",
       "      <td>1</td>\n",
       "      <td>5</td>\n",
       "      <td>0.189637</td>\n",
       "      <td>2</td>\n",
       "      <td>1</td>\n",
       "    </tr>\n",
       "    <tr>\n",
       "      <th>5</th>\n",
       "      <td>9</td>\n",
       "      <td>10</td>\n",
       "      <td>0.212615</td>\n",
       "      <td>2</td>\n",
       "      <td>9</td>\n",
       "    </tr>\n",
       "    <tr>\n",
       "      <th>6</th>\n",
       "      <td>4</td>\n",
       "      <td>16</td>\n",
       "      <td>0.225209</td>\n",
       "      <td>3</td>\n",
       "      <td>5</td>\n",
       "    </tr>\n",
       "    <tr>\n",
       "      <th>7</th>\n",
       "      <td>17</td>\n",
       "      <td>18</td>\n",
       "      <td>0.341387</td>\n",
       "      <td>5</td>\n",
       "      <td>5</td>\n",
       "    </tr>\n",
       "    <tr>\n",
       "      <th>8</th>\n",
       "      <td>8</td>\n",
       "      <td>15</td>\n",
       "      <td>0.421540</td>\n",
       "      <td>6</td>\n",
       "      <td>3</td>\n",
       "    </tr>\n",
       "    <tr>\n",
       "      <th>9</th>\n",
       "      <td>19</td>\n",
       "      <td>20</td>\n",
       "      <td>0.541482</td>\n",
       "      <td>11</td>\n",
       "      <td>0</td>\n",
       "    </tr>\n",
       "    <tr>\n",
       "      <th>10</th>\n",
       "      <td>7</td>\n",
       "      <td>21</td>\n",
       "      <td>0.660725</td>\n",
       "      <td>12</td>\n",
       "      <td>2</td>\n",
       "    </tr>\n",
       "  </tbody>\n",
       "</table>\n",
       "</div>"
      ],
      "text/plain": [
       "     x   y      dist  num_pts  prototype\n",
       "0    0  11  0.109071        2          0\n",
       "1    3  12  0.113781        3         11\n",
       "2    2  13  0.139847        4         11\n",
       "3    6  14  0.180002        5         11\n",
       "4    1   5  0.189637        2          1\n",
       "5    9  10  0.212615        2          9\n",
       "6    4  16  0.225209        3          5\n",
       "7   17  18  0.341387        5          5\n",
       "8    8  15  0.421540        6          3\n",
       "9   19  20  0.541482       11          0\n",
       "10   7  21  0.660725       12          2"
      ]
     },
     "execution_count": 28,
     "metadata": {},
     "output_type": "execute_result"
    }
   ],
   "source": [
    "from pandas import DataFrame\n",
    "\n",
    "DataFrame(Z, columns=['x', 'y', 'dist', 'num_pts', 'prototype']).astype({'x': int, 'y': int, 'num_pts': int, 'prototype': int})"
   ]
  },
  {
   "cell_type": "code",
   "execution_count": 30,
   "id": "veterinary-northwest",
   "metadata": {},
   "outputs": [
    {
     "name": "stdout",
     "output_type": "stream",
     "text": [
      "defaultdict(<class 'set'>, {3: {0, 2, 3, 6, 11}, 2: {1, 4, 5}, 5: {7}, 4: {8}, 1: {9, 10}})\n"
     ]
    },
    {
     "data": {
      "text/html": [
       "<div>\n",
       "<style scoped>\n",
       "    .dataframe tbody tr th:only-of-type {\n",
       "        vertical-align: middle;\n",
       "    }\n",
       "\n",
       "    .dataframe tbody tr th {\n",
       "        vertical-align: top;\n",
       "    }\n",
       "\n",
       "    .dataframe thead th {\n",
       "        text-align: right;\n",
       "    }\n",
       "</style>\n",
       "<table border=\"1\" class=\"dataframe\">\n",
       "  <thead>\n",
       "    <tr style=\"text-align: right;\">\n",
       "      <th></th>\n",
       "      <th>0</th>\n",
       "    </tr>\n",
       "  </thead>\n",
       "  <tbody>\n",
       "    <tr>\n",
       "      <th>3</th>\n",
       "      <td>11.0</td>\n",
       "    </tr>\n",
       "    <tr>\n",
       "      <th>1</th>\n",
       "      <td>9.0</td>\n",
       "    </tr>\n",
       "    <tr>\n",
       "      <th>2</th>\n",
       "      <td>5.0</td>\n",
       "    </tr>\n",
       "    <tr>\n",
       "      <th>4</th>\n",
       "      <td>3.0</td>\n",
       "    </tr>\n",
       "    <tr>\n",
       "      <th>5</th>\n",
       "      <td>2.0</td>\n",
       "    </tr>\n",
       "  </tbody>\n",
       "</table>\n",
       "</div>"
      ],
      "text/plain": [
       "      0\n",
       "3  11.0\n",
       "1   9.0\n",
       "2   5.0\n",
       "4   3.0\n",
       "5   2.0"
      ]
     },
     "execution_count": 30,
     "metadata": {},
     "output_type": "execute_result"
    }
   ],
   "source": [
    "from scipy.cluster.hierarchy import fcluster\n",
    "from collections import defaultdict\n",
    "\n",
    "clust_lst = fcluster(Z[:, :4], t=0.3, criterion='distance')\n",
    "idx2clust = dict(enumerate(clust_lst))      # indices and corresponding cluster\n",
    "\n",
    "clust_dict = defaultdict(set)               # map from cluster to set of indices\n",
    "for idx, clust in enumerate(clust_lst):\n",
    "    clust_dict[clust].add(idx)\n",
    "\n",
    "print(clust_dict)\n",
    "    \n",
    "protos = {}\n",
    "for x, y, _, _, proto in Z:\n",
    "    if x < n:\n",
    "        clust = idx2clust[x]\n",
    "        clust_dict[clust].remove(x)\n",
    "        if clust_dict[clust] == set([]):\n",
    "            protos[clust] = proto\n",
    "    if y < n:\n",
    "        clust = idx2clust[y]\n",
    "        clust_dict[clust].remove(y)\n",
    "        if clust_dict[clust] == set([]):\n",
    "            protos[clust] = proto\n",
    "\n",
    "from pandas import Series\n",
    "Series(protos).to_frame()"
   ]
  },
  {
   "cell_type": "markdown",
   "id": "satisfied-convention",
   "metadata": {},
   "source": [
    "The above result says that, cutting the dendrogram at 1.8 threshold, the data has 4 clusters, with the first 3 points being in the first cluster, and the following 3 in the second cluster, and so on. "
   ]
  },
  {
   "cell_type": "markdown",
   "id": "micro-appointment",
   "metadata": {},
   "source": [
    "## See Also\n",
    "\n",
    "* [scipy.cluster.hierarchy.complete](https://docs.scipy.org/doc/scipy/reference/generated/scipy.cluster.hierarchy.complete.html)\n",
    "* [scipy.cluster.hierarchy.dendrogram](https://docs.scipy.org/doc/scipy/reference/generated/scipy.cluster.hierarchy.dendrogram.html)\n",
    "* [scipy.cluster.hierarchy.fcluster](https://docs.scipy.org/doc/scipy/reference/generated/scipy.cluster.hierarchy.fcluster.html)\n",
    "* [scipy.cluster.hierarchy.linkage](https://docs.scipy.org/doc/scipy/reference/generated/scipy.cluster.hierarchy.linkage.html)\n",
    "* [scipy.spatial.distance.pdist](https://docs.scipy.org/doc/scipy/reference/generated/scipy.spatial.distance.pdist.html)"
   ]
  }
 ],
 "metadata": {
  "kernelspec": {
   "display_name": "Python 3",
   "language": "python",
   "name": "python3"
  },
  "language_info": {
   "codemirror_mode": {
    "name": "ipython",
    "version": 3
   },
   "file_extension": ".py",
   "mimetype": "text/x-python",
   "name": "python",
   "nbconvert_exporter": "python",
   "pygments_lexer": "ipython3",
   "version": "3.7.10"
  }
 },
 "nbformat": 4,
 "nbformat_minor": 5
}
