{
 "cells": [
  {
   "cell_type": "markdown",
   "id": "respective-allocation",
   "metadata": {},
   "source": [
    "# Quick Start"
   ]
  },
  {
   "cell_type": "markdown",
   "id": "amino-grant",
   "metadata": {},
   "source": [
    "## Installation\n",
    "\n",
    "The recommended way to install PyMinimax is using pip.\n",
    "\n",
    "```\n",
    "pip install pyminimax\n",
    "```\n",
    "\n",
    "PyMinimax runs on any platform with Python 3 and NumPy installed. Installing SciPy is not required but strongly recommended as SciPy has the facility to interpret the results by PyMinimax. "
   ]
  },
  {
   "cell_type": "markdown",
   "id": "patient-currency",
   "metadata": {},
   "source": [
    "## Usage\n",
    "\n",
    "The usage of the `pyminimax.minimax` function is the same as the hierarchical clustering methods in SciPy, for example `scipy.cluster.hierarchy.complete`. Here we also demonstrate with the same example as in SciPy's documentation. First consider a dataset of $n=12$ points: \n",
    "\n",
    "    x x    x x\n",
    "    x        x\n",
    "\n",
    "    x        x\n",
    "    x x    x x\n",
    "    \n",
    "The `pyminimax.minimax` function takes a flattened distance matrix of the data as an input argument, which can be computed by `scipy.spatial.distance.pdist`. By default, the return value of `pyminimax.minimax` has the same format as that of `scipy.cluster.hierarchy.linkage`. This is an $(n-1)$ by 4 matrix keeping the clustering result. A detailed explanation of its format can be found in the documentation of `scipy.cluster.hierarchy.linkage`."
   ]
  },
  {
   "cell_type": "code",
   "execution_count": 1,
   "id": "focused-suffering",
   "metadata": {},
   "outputs": [
    {
     "data": {
      "text/plain": [
       "array([[ 0.        ,  1.        ,  1.        ,  2.        ],\n",
       "       [ 2.        , 12.        ,  1.        ,  3.        ],\n",
       "       [ 3.        ,  4.        ,  1.        ,  2.        ],\n",
       "       [ 6.        ,  7.        ,  1.        ,  2.        ],\n",
       "       [ 5.        , 14.        ,  1.        ,  3.        ],\n",
       "       [ 8.        , 15.        ,  1.        ,  3.        ],\n",
       "       [ 9.        , 10.        ,  1.        ,  2.        ],\n",
       "       [11.        , 18.        ,  1.        ,  3.        ],\n",
       "       [13.        , 16.        ,  3.16227766,  6.        ],\n",
       "       [17.        , 19.        ,  3.16227766,  6.        ],\n",
       "       [20.        , 21.        ,  5.        , 12.        ]])"
      ]
     },
     "execution_count": 1,
     "metadata": {},
     "output_type": "execute_result"
    }
   ],
   "source": [
    "from pyminimax import minimax\n",
    "from scipy.spatial.distance import pdist\n",
    "\n",
    "X = [[0, 0], [0, 1], [1, 0], [0, 4], [0, 3], [1, 4], [4, 0], [3, 0], [4, 1], [4, 4], [3, 4], [4, 3]]\n",
    "Z = minimax(pdist(X))\n",
    "\n",
    "Z"
   ]
  },
  {
   "cell_type": "markdown",
   "id": "numerous-least",
   "metadata": {},
   "source": [
    "Given the `Z` matrix, one can then utilize the methods in `scipy.cluster.hierarchy` to present the clustering result in a more readable manner. Below are examples applying `dendrogram` and `fcluster`. "
   ]
  },
  {
   "cell_type": "code",
   "execution_count": 2,
   "id": "coordinate-funds",
   "metadata": {},
   "outputs": [
    {
     "data": {
      "image/png": "[encoded data removed]",
      "text/plain": [
       "<Figure size 720x288 with 1 Axes>"
      ]
     },
     "metadata": {
      "needs_background": "light"
     },
     "output_type": "display_data"
    }
   ],
   "source": [
    "from scipy.cluster.hierarchy import dendrogram\n",
    "from matplotlib import pyplot as plt\n",
    "\n",
    "fig = plt.figure(figsize=(10, 4))\n",
    "dendrogram(Z)\n",
    "plt.show()"
   ]
  },
  {
   "cell_type": "code",
   "execution_count": 3,
   "id": "numerous-correction",
   "metadata": {},
   "outputs": [
    {
     "data": {
      "text/plain": [
       "array([1, 1, 1, 2, 2, 2, 3, 3, 3, 4, 4, 4], dtype=int32)"
      ]
     },
     "execution_count": 3,
     "metadata": {},
     "output_type": "execute_result"
    }
   ],
   "source": [
    "from scipy.cluster.hierarchy import fcluster\n",
    "\n",
    "fcluster(Z, t=1.8, criterion='distance')"
   ]
  },
  {
   "cell_type": "markdown",
   "id": "photographic-vintage",
   "metadata": {},
   "source": [
    "The above result of `fcluster` says that, cutting the dendrogram at 1.8 threshold, the data has 4 clusters, with the first 3 points being in the first cluster, the following 3 in the second, and so on. "
   ]
  },
  {
   "cell_type": "markdown",
   "id": "artistic-regard",
   "metadata": {},
   "source": [
    "## See Also\n",
    "\n",
    "* [scipy.cluster.hierarchy.complete](https://docs.scipy.org/doc/scipy/reference/generated/scipy.cluster.hierarchy.complete.html)\n",
    "* [scipy.cluster.hierarchy.dendrogram](https://docs.scipy.org/doc/scipy/reference/generated/scipy.cluster.hierarchy.dendrogram.html)\n",
    "* [scipy.cluster.hierarchy.fcluster](https://docs.scipy.org/doc/scipy/reference/generated/scipy.cluster.hierarchy.fcluster.html)\n",
    "* [scipy.cluster.hierarchy.linkage](https://docs.scipy.org/doc/scipy/reference/generated/scipy.cluster.hierarchy.linkage.html)\n",
    "* [scipy.spatial.distance.pdist](https://docs.scipy.org/doc/scipy/reference/generated/scipy.spatial.distance.pdist.html)"
   ]
  }
 ],
 "metadata": {
  "kernelspec": {
   "display_name": "Python 3",
   "language": "python",
   "name": "python3"
  },
  "language_info": {
   "codemirror_mode": {
    "name": "ipython",
    "version": 3
   },
   "file_extension": ".py",
   "mimetype": "text/x-python",
   "name": "python",
   "nbconvert_exporter": "python",
   "pygments_lexer": "ipython3",
   "version": "3.7.10"
  }
 },
 "nbformat": 4,
 "nbformat_minor": 5
}
