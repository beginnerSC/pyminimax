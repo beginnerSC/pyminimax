{
 "cells": [
  {
   "cell_type": "markdown",
   "id": "fifteen-audio",
   "metadata": {},
   "source": [
    "# Welcome to PyMinimax's documentation!"
   ]
  },
  {
   "cell_type": "raw",
   "id": "afraid-terminal",
   "metadata": {},
   "source": [
    ".. toctree::\n",
    "   :maxdepth: 2\n",
    "   :caption: Contents:\n",
    "   \n",
    ".. autofunction:: pyminimax.minimax"
   ]
  },
  {
   "cell_type": "markdown",
   "id": "separated-cosmetic",
   "metadata": {},
   "source": [
    "## See Also\n",
    "\n",
    "* [scipy.cluster.hierarchy.linkage](https://docs.scipy.org/doc/scipy/reference/generated/scipy.cluster.hierarchy.linkage.html#scipy.cluster.hierarchy.linkage) : for advanced creation of hierarchical clusterings.\n",
    "* [scipy.spatial.distance.pdist](https://docs.scipy.org/doc/scipy/reference/generated/scipy.spatial.distance.pdist.html) : pairwise distance metrics\n",
    "\n",
    "## Examples"
   ]
  },
  {
   "cell_type": "code",
   "execution_count": 1,
   "id": "broad-stroke",
   "metadata": {},
   "outputs": [],
   "source": [
    "from pyminimax import minimax\n",
    "from scipy.cluster.hierarchy import fcluster\n",
    "from scipy.spatial.distance import pdist"
   ]
  },
  {
   "cell_type": "markdown",
   "id": "coastal-calculation",
   "metadata": {},
   "source": [
    "First, we need a toy dataset to play with:"
   ]
  },
  {
   "cell_type": "raw",
   "id": "agricultural-economics",
   "metadata": {},
   "source": [
    "    x x    x x\n",
    "    x        x\n",
    "    x        x\n",
    "    x x    x x    "
   ]
  },
  {
   "cell_type": "code",
   "execution_count": 2,
   "id": "pleased-dryer",
   "metadata": {},
   "outputs": [],
   "source": [
    "X = [[0, 0], [0, 1], [1, 0],\n",
    "     [0, 4], [0, 3], [1, 4],\n",
    "     [4, 0], [3, 0], [4, 1],\n",
    "     [4, 4], [3, 4], [4, 3]]"
   ]
  },
  {
   "cell_type": "markdown",
   "id": "adapted-anthony",
   "metadata": {},
   "source": [
    "Then, we get a condensed distance matrix from this dataset:"
   ]
  },
  {
   "cell_type": "code",
   "execution_count": 3,
   "id": "cheap-afghanistan",
   "metadata": {},
   "outputs": [],
   "source": [
    "y = pdist(X)"
   ]
  },
  {
   "cell_type": "markdown",
   "id": "representative-convertible",
   "metadata": {},
   "source": [
    "Finally, we can perform the clustering:"
   ]
  },
  {
   "cell_type": "code",
   "execution_count": 4,
   "id": "environmental-speed",
   "metadata": {},
   "outputs": [
    {
     "data": {
      "text/plain": [
       "array([[ 0.        ,  1.        ,  1.        ,  2.        ],\n",
       "       [ 2.        , 12.        ,  1.        ,  3.        ],\n",
       "       [ 3.        ,  4.        ,  1.        ,  2.        ],\n",
       "       [ 6.        ,  7.        ,  1.        ,  2.        ],\n",
       "       [ 5.        , 14.        ,  1.        ,  3.        ],\n",
       "       [ 8.        , 15.        ,  1.        ,  3.        ],\n",
       "       [ 9.        , 10.        ,  1.        ,  2.        ],\n",
       "       [11.        , 18.        ,  1.        ,  3.        ],\n",
       "       [13.        , 16.        ,  3.16227766,  6.        ],\n",
       "       [17.        , 19.        ,  3.16227766,  6.        ],\n",
       "       [20.        , 21.        ,  5.        , 12.        ]])"
      ]
     },
     "execution_count": 4,
     "metadata": {},
     "output_type": "execute_result"
    }
   ],
   "source": [
    "Z = minimax(y)\n",
    "Z"
   ]
  },
  {
   "cell_type": "markdown",
   "id": "dependent-tribune",
   "metadata": {},
   "source": [
    "The linkage matrix ``Z`` represents a dendrogram - see [scipy.cluster.hierarchy.linkage](https://docs.scipy.org/doc/scipy/reference/generated/scipy.cluster.hierarchy.linkage.html#scipy.cluster.hierarchy.linkage) for a detailed explanation of its contents.\n",
    "We can use [scipy.cluster.hierarchy.fcluster](https://docs.scipy.org/doc/scipy/reference/generated/scipy.cluster.hierarchy.fcluster.html#scipy.cluster.hierarchy.fcluster) to see to which cluster each initial point would belong given a distance threshold:"
   ]
  },
  {
   "cell_type": "code",
   "execution_count": 5,
   "id": "dramatic-basis",
   "metadata": {},
   "outputs": [
    {
     "data": {
      "text/plain": [
       "array([ 1,  2,  3,  4,  5,  6,  7,  8,  9, 10, 11, 12], dtype=int32)"
      ]
     },
     "execution_count": 5,
     "metadata": {},
     "output_type": "execute_result"
    }
   ],
   "source": [
    "fcluster(Z, 0.9, criterion='distance')"
   ]
  },
  {
   "cell_type": "code",
   "execution_count": 6,
   "id": "planned-cedar",
   "metadata": {},
   "outputs": [
    {
     "data": {
      "text/plain": [
       "array([1, 1, 1, 2, 2, 2, 3, 3, 3, 4, 4, 4], dtype=int32)"
      ]
     },
     "execution_count": 6,
     "metadata": {},
     "output_type": "execute_result"
    }
   ],
   "source": [
    "fcluster(Z, 1.5, criterion='distance')"
   ]
  },
  {
   "cell_type": "code",
   "execution_count": 7,
   "id": "japanese-verification",
   "metadata": {},
   "outputs": [
    {
     "data": {
      "text/plain": [
       "array([1, 1, 1, 1, 1, 1, 2, 2, 2, 2, 2, 2], dtype=int32)"
      ]
     },
     "execution_count": 7,
     "metadata": {},
     "output_type": "execute_result"
    }
   ],
   "source": [
    "fcluster(Z, 4.5, criterion='distance')"
   ]
  },
  {
   "cell_type": "code",
   "execution_count": 8,
   "id": "received-bargain",
   "metadata": {},
   "outputs": [
    {
     "data": {
      "text/plain": [
       "array([1, 1, 1, 1, 1, 1, 1, 1, 1, 1, 1, 1], dtype=int32)"
      ]
     },
     "execution_count": 8,
     "metadata": {},
     "output_type": "execute_result"
    }
   ],
   "source": [
    "fcluster(Z, 6, criterion='distance')"
   ]
  },
  {
   "cell_type": "markdown",
   "id": "renewable-emphasis",
   "metadata": {},
   "source": [
    "Also, [scipy.cluster.hierarchy.dendrogram](https://docs.scipy.org/doc/scipy/reference/generated/scipy.cluster.hierarchy.dendrogram.html#scipy.cluster.hierarchy.dendrogram) can be used to generate a plot of the dendrogram."
   ]
  }
 ],
 "metadata": {
  "kernelspec": {
   "display_name": "Python 3",
   "language": "python",
   "name": "python3"
  },
  "language_info": {
   "codemirror_mode": {
    "name": "ipython",
    "version": 3
   },
   "file_extension": ".py",
   "mimetype": "text/x-python",
   "name": "python",
   "nbconvert_exporter": "python",
   "pygments_lexer": "ipython3",
   "version": "3.7.10"
  }
 },
 "nbformat": 4,
 "nbformat_minor": 5
}
